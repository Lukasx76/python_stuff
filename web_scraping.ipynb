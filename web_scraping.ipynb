{
 "cells": [
  {
   "cell_type": "markdown",
   "metadata": {},
   "source": [
    "##### A simple project of a basketball fan 😉"
   ]
  },
  {
   "cell_type": "code",
   "execution_count": 2,
   "metadata": {},
   "outputs": [],
   "source": [
    "import requests\n",
    "from bs4 import BeautifulSoup"
   ]
  },
  {
   "cell_type": "code",
   "execution_count": 3,
   "metadata": {},
   "outputs": [],
   "source": [
    "# Send a GET request to the basketball-reference website to retrieve the HTML content\n",
    "response = requests.get(\"https://www.basketball-reference.com/boxscores/\")\n",
    "\n",
    "# Create a BeautifulSoup object to parse the HTML content\n",
    "soup = BeautifulSoup(response.content, \"html.parser\")\n",
    "\n",
    "# Find the div containing the game summaries\n",
    "game_summaries_table = soup.find(\"div\", class_=\"game_summaries\")\n",
    "\n",
    "# Find all the individual game summary divs\n",
    "results = game_summaries_table.find_all(\"div\", class_=\"game_summary expanded nohover\")"
   ]
  },
  {
   "cell_type": "code",
   "execution_count": 75,
   "metadata": {},
   "outputs": [
    {
     "name": "stdout",
     "output_type": "stream",
     "text": [
      "Game1\n",
      "Minnesota 118 x LA Clippers 100\n",
      "PTS A. Edwards-MIN 37 TRB R. Gobert-MIN 11\n",
      "\n",
      "Game2\n",
      "Memphis 109 x Washington 97 Final\n",
      "PTS 2 tied 24 TRB J. Goodwin-MEM 12\n",
      "\n",
      "Game3\n",
      "New York 106 x Philadelphia 79 Final\n",
      "PTS 2 tied 20 TRB J. Hart-NYK 19\n",
      "\n",
      "Game4\n",
      "Indiana 121 x Oklahoma City 111\n",
      "PTS S. Gilgeous-Alexander-OKC 30 TRB C. Holmgren-OKC 13\n",
      "\n",
      "Game5\n",
      "Sacramento 129 x Milwaukee 94 Final\n",
      "PTS G. Antetokounmpo-MIL 30 TRB G. Antetokounmpo-MIL 13\n",
      "\n",
      "Game6\n",
      "Houston 103 x San Antonio 101\n",
      "PTS T. Jones-SAS 24 TRB V. Wembanyama-SAS 10\n",
      "\n",
      "Game7\n",
      "Boston 123 x Utah 107\n",
      "PTS J. Tatum-BOS 38 TRB L. Kornet-BOS 9\n",
      "\n"
     ]
    }
   ],
   "source": [
    "formatted_results = {}\n",
    "game_counter = 1\n",
    "\n",
    "# Initialize an empty dictionary to store the formatted results\n",
    "formatted_results = {}\n",
    "\n",
    "# Initialize a counter for the game number\n",
    "game_counter = 1\n",
    "\n",
    "# Loop through each game summary\n",
    "for result in results:\n",
    "    # Find the winner, loser, and stats for each game\n",
    "    winner = result.find(\"tr\", class_=\"winner\")\n",
    "    loser = result.find(\"tr\", class_=\"loser\")\n",
    "    stats = result.find(\"table\", class_=\"stats\")\n",
    "\n",
    "    # Extract the text content, remove extra whitespace and the word Final\n",
    "    winner_text = \" \".join(winner.text.replace(\"Final\", \"\").split())\n",
    "    loser_text = \" \".join(loser.text.split())\n",
    "    stats_text = \" \".join(stats.text.split())\n",
    "\n",
    "    # Combine the winner, loser, and stats into the desired format and store in the dictionary\n",
    "    formatted_results[f\"Game{game_counter}\"] = f\"{winner_text} x {loser_text}\\n{stats_text}\"\n",
    "    game_counter += 1\n",
    "\n",
    "# Print out the formatted results for each game\n",
    "for game, result in formatted_results.items():\n",
    "    print(game)\n",
    "    print(result)\n",
    "    print(\"\")\n",
    "\n"
   ]
  }
 ],
 "metadata": {
  "kernelspec": {
   "display_name": "projectsEnv",
   "language": "python",
   "name": "python3"
  },
  "language_info": {
   "codemirror_mode": {
    "name": "ipython",
    "version": 3
   },
   "file_extension": ".py",
   "mimetype": "text/x-python",
   "name": "python",
   "nbconvert_exporter": "python",
   "pygments_lexer": "ipython3",
   "version": "3.12.0"
  }
 },
 "nbformat": 4,
 "nbformat_minor": 2
}
