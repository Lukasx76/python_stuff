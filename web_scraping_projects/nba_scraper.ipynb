{
 "cells": [
  {
   "cell_type": "markdown",
   "metadata": {},
   "source": [
    "##### A simple project of a basketball fan 😉"
   ]
  },
  {
   "cell_type": "code",
   "execution_count": 1,
   "metadata": {},
   "outputs": [],
   "source": [
    "import requests\n",
    "from bs4 import BeautifulSoup"
   ]
  },
  {
   "cell_type": "code",
   "execution_count": 2,
   "metadata": {},
   "outputs": [],
   "source": [
    "# Send a GET request to the basketball-reference website to retrieve the HTML content\n",
    "response = requests.get(\"https://www.basketball-reference.com/boxscores/\")\n",
    "\n",
    "# Create a BeautifulSoup object to parse the HTML content\n",
    "soup = BeautifulSoup(response.content, \"html.parser\")\n",
    "\n",
    "# Find the div containing the game summaries\n",
    "game_summaries_table = soup.find(\"div\", class_=\"game_summaries\")\n",
    "\n",
    "# Find all the individual game summary divs\n",
    "results = game_summaries_table.find_all(\"div\", class_=\"game_summary expanded nohover\")"
   ]
  },
  {
   "cell_type": "code",
   "execution_count": 3,
   "metadata": {},
   "outputs": [
    {
     "name": "stdout",
     "output_type": "stream",
     "text": [
      "Game1\n",
      "Boston 127 x Phoenix 112 Final\n",
      "PTS J. Brown-BOS 37 TRB J. Nurkić-PHO 20\n",
      "\n",
      "Game2\n",
      "LA Clippers 126 x Chicago 111\n",
      "PTS P. George-LAC 28 TRB I. Zubac-LAC 8\n",
      "\n",
      "Game3\n",
      "Houston 135 x Washington 119 Final\n",
      "PTS J. Green-HOU 37 TRB A. Thompson-HOU 11\n",
      "\n",
      "Game4\n",
      "Milwaukee 114 x Philadelphia 105 Final\n",
      "PTS G. Antetokounmpo-MIL 32 TRB G. Antetokounmpo-MIL 11\n",
      "\n",
      "Game5\n",
      "Oklahoma City 126 x Dallas 119 Final\n",
      "PTS K. Irving-DAL 36 TRB D. Gafford-DAL 15\n",
      "\n",
      "Game6\n",
      "New York 105 x Portland 93\n",
      "PTS J. Brunson-NYK 45 TRB J. Hart-NYK 15\n",
      "\n"
     ]
    }
   ],
   "source": [
    "formatted_results = {}\n",
    "game_counter = 1\n",
    "\n",
    "# Initialize an empty dictionary to store the formatted results\n",
    "formatted_results = {}\n",
    "\n",
    "# Initialize a counter for the game number\n",
    "game_counter = 1\n",
    "\n",
    "# Loop through each game summary\n",
    "for result in results:\n",
    "    # Find the winner, loser, and stats for each game\n",
    "    winner = result.find(\"tr\", class_=\"winner\")\n",
    "    loser = result.find(\"tr\", class_=\"loser\")\n",
    "    stats = result.find(\"table\", class_=\"stats\")\n",
    "\n",
    "    # Extract the text content, remove extra whitespace and the word Final\n",
    "    winner_text = \" \".join(winner.text.replace(\"Final\", \"\").split())\n",
    "    loser_text = \" \".join(loser.text.split())\n",
    "    stats_text = \" \".join(stats.text.split())\n",
    "\n",
    "    # Combine the winner, loser, and stats into the desired format and store in the dictionary\n",
    "    formatted_results[f\"Game{game_counter}\"] = f\"{winner_text} x {loser_text}\\n{stats_text}\"\n",
    "    game_counter += 1\n",
    "\n",
    "# Print out the formatted results for each game\n",
    "for game, result in formatted_results.items():\n",
    "    print(game)\n",
    "    print(result)\n",
    "    print(\"\")\n",
    "\n"
   ]
  }
 ],
 "metadata": {
  "kernelspec": {
   "display_name": "projectsEnv",
   "language": "python",
   "name": "python3"
  },
  "language_info": {
   "codemirror_mode": {
    "name": "ipython",
    "version": 3
   },
   "file_extension": ".py",
   "mimetype": "text/x-python",
   "name": "python",
   "nbconvert_exporter": "python",
   "pygments_lexer": "ipython3",
   "version": "3.12.0"
  }
 },
 "nbformat": 4,
 "nbformat_minor": 2
}
